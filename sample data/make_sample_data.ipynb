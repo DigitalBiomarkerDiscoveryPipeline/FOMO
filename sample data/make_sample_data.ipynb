{
 "cells": [
  {
   "cell_type": "code",
   "execution_count": 29,
   "metadata": {},
   "outputs": [],
   "source": [
    "from datetime import datetime, timedelta\n",
    "import numpy as np\n",
    "import pandas as pd\n",
    "\n",
    "# Setting the seed for reproducibility\n",
    "np.random.seed(42)"
   ]
  },
  {
   "cell_type": "markdown",
   "metadata": {},
   "source": [
    "# 1. Random Sampling Rate"
   ]
  },
  {
   "cell_type": "markdown",
   "metadata": {},
   "source": [
    "## a) Random missingness: 30 Days"
   ]
  },
  {
   "cell_type": "markdown",
   "metadata": {},
   "source": [
    "In a set time range of 30 days, random full days will be missing, and random portions of the day will be missing"
   ]
  },
  {
   "cell_type": "code",
   "execution_count": 32,
   "metadata": {},
   "outputs": [
    {
     "data": {
      "text/plain": [
       "(   person_id                   datetime  heart_rate\n",
       " 0     100001 2024-01-02 00:00:50.000000          85\n",
       " 1     100001 2024-01-02 00:04:33.000000          87\n",
       " 2     100001 2024-01-02 00:58:52.653376          91\n",
       " 3     100001 2024-01-02 01:03:49.653376          84\n",
       " 4     100001 2024-01-02 01:05:21.653376          66,\n",
       " 4671)"
      ]
     },
     "execution_count": 32,
     "metadata": {},
     "output_type": "execute_result"
    }
   ],
   "source": [
    "\n",
    "def generate_datetime_range_with_varied_seconds_and_days(start_date, end_date, min_days=25):\n",
    "    # Determine the total number of days in the range and calculate missing days fraction\n",
    "    total_days = (end_date - start_date).days + 1\n",
    "    fraction_missing_days = np.random.uniform(0, 0.3)\n",
    "    days_to_include = int((1 - fraction_missing_days) * total_days)\n",
    "    \n",
    "    # Randomly select days to include data\n",
    "    all_days = [start_date + timedelta(days=i) for i in range(total_days)]\n",
    "    included_days = sorted(np.random.choice(all_days, days_to_include, replace=False))\n",
    "    \n",
    "    datetime_range = []\n",
    "    for day in included_days:\n",
    "        current_date = datetime(day.year, day.month, day.day)\n",
    "        end_of_day = current_date + timedelta(days=1)\n",
    "        \n",
    "        while current_date < end_of_day:\n",
    "            # Determine if we should introduce missingness\n",
    "            if np.random.rand() < 0.1:  # 10% chance to skip data for a batch of hours\n",
    "                current_date += timedelta(hours=np.random.rand())  # Skip between 0 to 1 hours\n",
    "            else:\n",
    "                # Add random seconds to the datetime\n",
    "                seconds = np.random.randint(0, 60)\n",
    "                current_date_with_seconds = current_date.replace(second=seconds)\n",
    "                datetime_range.append(current_date_with_seconds)\n",
    "                current_date += timedelta(minutes=np.random.randint(1, 7))  # Increment by 1 to 7 minutes sampling rate\n",
    "            \n",
    "            # Break the loop if the day is fully covered\n",
    "            if current_date >= end_of_day:\n",
    "                break\n",
    "\n",
    "    return datetime_range\n",
    "\n",
    "# Now let's test the updated function by generating a smaller sample dataframe for one person\n",
    "test_person_id = 100001\n",
    "start_datetime = datetime(2024, 1, 1)\n",
    "end_datetime = datetime(2024, 1, 30, 23, 59)\n",
    "\n",
    "# Generate datetimes with varied seconds and ensure coverage over more than 25 days with the updated function\n",
    "datetimes = generate_datetime_range_with_varied_seconds_and_days(start_datetime, end_datetime)\n",
    "heart_rates = np.random.randint(60, 100, size=len(datetimes))  # Random heart rate between 60 and 100\n",
    "\n",
    "test_df = pd.DataFrame({\n",
    "    'person_id': test_person_id,\n",
    "    'datetime': datetimes,\n",
    "    'heart_rate': heart_rates\n",
    "})\n",
    "\n",
    "test_df.head(), len(test_df)\n"
   ]
  },
  {
   "cell_type": "markdown",
   "metadata": {},
   "source": [
    "Generate dataset:"
   ]
  },
  {
   "cell_type": "code",
   "execution_count": 33,
   "metadata": {},
   "outputs": [],
   "source": [
    "# Generate 50 unique person_ids\n",
    "n_people = 50\n",
    "person_ids = np.random.choice(range(100000, 999999), 50, replace=False)\n",
    "\n",
    "start_datetime = datetime(2024, 1, 1)\n",
    "end_datetime = datetime(2024, 1, 30, 23, 59)\n",
    "\n",
    "# Creating the dataframe\n",
    "data = []\n",
    "for person_id in person_ids:\n",
    "    datetimes = generate_datetime_range_with_varied_seconds_and_days(start_datetime, end_datetime)\n",
    "    heart_rates = np.random.randint(60, 100, size=len(datetimes))  # Random heart rate between 60 and 100\n",
    "\n",
    "    for dt, hr in zip(datetimes, heart_rates):\n",
    "        data.append([person_id, dt, hr])\n",
    "\n",
    "df = pd.DataFrame(data, columns=[\"person_id\", \"datetime\", \"heart_rate\"])"
   ]
  },
  {
   "cell_type": "code",
   "execution_count": 36,
   "metadata": {},
   "outputs": [],
   "source": [
    "df.to_csv('Random_Missingness_30_days.csv')"
   ]
  },
  {
   "cell_type": "markdown",
   "metadata": {},
   "source": [
    "## Fixed Missingness Time-Range Clusters\n",
    "\n",
    "All patients will fall into a cluster of \"more probabalistic missingness\" during a fixed time period\n",
    "\n",
    "e.g. some patients will have high missingness in the first 7 days, some will have high missingness in the first 15 days, some will have missingness in the last 10 days "
   ]
  },
  {
   "cell_type": "code",
   "execution_count": 37,
   "metadata": {},
   "outputs": [],
   "source": [
    "np.random.seed(42)  # For reproducibility\n",
    "\n",
    "def adjust_missingness(current_date, start_date, cluster_type):\n",
    "    \"\"\"\n",
    "    Adjust the probability of missingness based on the cluster type and the date.\n",
    "    \"\"\"\n",
    "    delta_days = (current_date - start_date).days\n",
    "    if cluster_type == 1 and delta_days > 23:  # Last 7 days for a 30-day period\n",
    "        return 0.3  # Increase to 30% chance\n",
    "    elif cluster_type == 2 and delta_days > 15:  # Last 15 days\n",
    "        return 0.3\n",
    "    elif cluster_type == 3 and 10 <= delta_days <= 20:  # Between day 10 and 20\n",
    "        return 0.3\n",
    "    else:\n",
    "        return 0.1  # Default 10% chance\n",
    "\n",
    "def generate_datetime_range_with_varied_seconds_and_days(start_date, end_date, min_days=25, cluster_type=4):\n",
    "    total_days = (end_date - start_date).days + 1\n",
    "    all_days = [start_date + timedelta(days=i) for i in range(total_days)]\n",
    "\n",
    "\n",
    "        # Initialize probabilities for each day to be included\n",
    "    p = np.ones(total_days) / total_days  # Default equal probability\n",
    "    \n",
    "    # Adjust probabilities based on the cluster type\n",
    "    if cluster_type == 1:  # Last 7 days have higher missingness\n",
    "        for i in range(-7, 0):\n",
    "            p[i] *= 0.5  # Reduce the probability of including these days\n",
    "    elif cluster_type == 2:  # Last 15 days have higher missingness\n",
    "        for i in range(-15, 0):\n",
    "            p[i] *= 0.5\n",
    "    elif cluster_type == 3:  # Higher missingness between day 10 and 20\n",
    "        for i in range(9, 20):\n",
    "            if i < total_days:  # Check needed to avoid index error\n",
    "                p[i] *= 0.5\n",
    "    \n",
    "    # Normalize probabilities to sum to 1\n",
    "    p /= p.sum()\n",
    "    \n",
    "    # Determine days to include with adjusted probabilities\n",
    "    fraction_missing_days = np.random.uniform(0, 0.3)\n",
    "    days_to_include = int((1 - fraction_missing_days) * total_days)\n",
    "    included_days = sorted(np.random.choice(all_days, days_to_include, replace=False, p=p))\n",
    "    \n",
    "    datetime_range = []\n",
    "    for day in included_days:\n",
    "        current_date = datetime(day.year, day.month, day.day)\n",
    "        end_of_day = current_date + timedelta(days=1)\n",
    "        \n",
    "        while current_date < end_of_day:\n",
    "            missingness_chance = adjust_missingness(current_date, start_date, cluster_type)\n",
    "            if np.random.rand() < missingness_chance:\n",
    "                current_date += timedelta(hours=np.random.rand())\n",
    "            else:\n",
    "                seconds = np.random.randint(0, 60)\n",
    "                current_date_with_seconds = current_date.replace(second=seconds)\n",
    "                datetime_range.append(current_date_with_seconds)\n",
    "                current_date += timedelta(minutes=np.random.randint(1, 7)) # Random sampling rate\n",
    "            \n",
    "            if current_date >= end_of_day:\n",
    "                break\n",
    "\n",
    "    return datetime_range\n",
    "\n",
    "# Generate 50 unique person_ids and assign them to 4 clusters\n",
    "n_people = 50\n",
    "person_ids = np.random.choice(range(100000, 999999), n_people, replace=False)\n",
    "clusters = np.repeat([1, 2, 3, 4], repeats=n_people // 4)\n",
    "\n",
    "start_datetime = datetime(2024, 1, 1)\n",
    "end_datetime = datetime(2024, 1, 30, 23, 59)\n",
    "\n",
    "# Creating the dataframe\n",
    "data = []\n",
    "for person_id, cluster in zip(person_ids, clusters):\n",
    "    datetimes = generate_datetime_range_with_varied_seconds_and_days(start_datetime, end_datetime, cluster_type=cluster)\n",
    "    heart_rates = np.random.randint(60, 100, size=len(datetimes))\n",
    "\n",
    "    for dt, hr in zip(datetimes, heart_rates):\n",
    "        data.append([person_id, dt, hr])\n",
    "\n",
    "df = pd.DataFrame(data, columns=[\"person_id\", \"datetime\", \"heart_rate\"])\n"
   ]
  },
  {
   "cell_type": "code",
   "execution_count": 38,
   "metadata": {},
   "outputs": [],
   "source": [
    "df.to_csv('Four_Cluster_Missingness_30_days.csv')"
   ]
  }
 ],
 "metadata": {
  "kernelspec": {
   "display_name": "base",
   "language": "python",
   "name": "python3"
  },
  "language_info": {
   "codemirror_mode": {
    "name": "ipython",
    "version": 3
   },
   "file_extension": ".py",
   "mimetype": "text/x-python",
   "name": "python",
   "nbconvert_exporter": "python",
   "pygments_lexer": "ipython3",
   "version": "3.9.12"
  }
 },
 "nbformat": 4,
 "nbformat_minor": 2
}
